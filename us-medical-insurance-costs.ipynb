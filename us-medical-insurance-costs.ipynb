{
 "cells": [
  {
   "cell_type": "markdown",
   "metadata": {},
   "source": [
    "# U.S. Medical Insurance Costs"
   ]
  },
  {
   "cell_type": "markdown",
   "metadata": {},
   "source": [
    "The goal of this project to explore the provided data (in CSV file) using Python fundamentals. This file contains people data for calculating insurance.\n",
    "\n",
    "The data is provided by Codeacademy.com"
   ]
  },
  {
   "cell_type": "markdown",
   "metadata": {},
   "source": [
    "## Introduction\n",
    "\n",
    "The CSV file (insurance.csv) consists of the following columns for each person:\n",
    "- age\n",
    "- sex\n",
    "- bmi (body mass index)\n",
    "- number of children\n",
    "- smoker status\n",
    "- region \n",
    "- charges (insurance cost)\n",
    "\n",
    "There is no missing data in the file."
   ]
  },
  {
   "cell_type": "markdown",
   "metadata": {},
   "source": [
    "The following formula is used for insurance cost calculation:\n",
    "\n",
    "$ insurance = 250 * age - 128 * sex + 370 * bmi +425 * children + 24000 * smoker - 12500 $\n",
    "\n",
    "For analysis, I chose the body mass index parameter, since it has a fairly large range of values and directly affects the cost of insurance.\n",
    "\n",
    "The bmi has the official classification:\n",
    "- bmi < 16.5 - severe underweight\n",
    "- bmi >= 16.5 and bmi < 18.5 - underweight\n",
    "- bmi >= 18.5 and bmi < 24.5 - normal weight\n",
    "- bmi >= 24.5 and bmi < 30 - overweight\n",
    "- bmi > 30 - obesity\n",
    "\n",
    "I'm going to take people categorized as obese (the largest contribution to the cost of insurance) and answer the next questions:\n",
    "\n",
    "- Obese men/women proportions \n",
    "- Percentage of obese people among people who smoke\n",
    "- Percentage of obese women among women with children\n",
    "- Percentage of obese people among young people"
   ]
  },
  {
   "cell_type": "markdown",
   "metadata": {},
   "source": [
    "## The functions used in the program"
   ]
  },
  {
   "cell_type": "markdown",
   "metadata": {},
   "source": [
    "To create several dictionaries depending on bmi categories:"
   ]
  },
  {
   "cell_type": "code",
   "execution_count": 2,
   "metadata": {},
   "outputs": [],
   "source": [
    "def bmi_grouping(dictionary):\n",
    "  dict_1, dict_2, dict_3, dict_4, dict_5 = {}, {}, {}, {}, {}\n",
    "  for key, value in dictionary.items():\n",
    "    if float(value[2]) < 16.5:\n",
    "      dict_1[key] = value\n",
    "    elif float(value[2]) >= 16.5 and float(value[2]) < 18.5:\n",
    "      dict_2[key] = value\n",
    "    elif float(value[2]) >= 18.5 and float(value[2]) < 24.5:\n",
    "      dict_3[key] = value\n",
    "    elif float(value[2]) >= 24.5 and float(value[2]) < 30:\n",
    "     dict_4[key] = value\n",
    "    elif float(value[2]) >= 30:\n",
    "     dict_5[key] = value\n",
    "  return dict_1, dict_2, dict_3, dict_4, dict_5\n",
    "\n"
   ]
  },
  {
   "cell_type": "markdown",
   "metadata": {},
   "source": [
    "To define the amount of male to female in a dictionary:"
   ]
  },
  {
   "cell_type": "code",
   "execution_count": 3,
   "metadata": {},
   "outputs": [],
   "source": [
    "def male_to_female(dictionary):\n",
    "  m_count, f_count = 0, 0\n",
    "  for value in dictionary.values():\n",
    "    if value[1] == 'male':\n",
    "      m_count += 1\n",
    "    elif value[1] == 'female':\n",
    "      f_count += 1\n",
    "  return m_count, f_count"
   ]
  },
  {
   "cell_type": "markdown",
   "metadata": {},
   "source": [
    "To define the ratio of obese male to obese female:"
   ]
  },
  {
   "cell_type": "code",
   "execution_count": 14,
   "metadata": {},
   "outputs": [],
   "source": [
    "def obesity_ratio(m_count, f_count):\n",
    "  if m_count > f_count:\n",
    "    print('There are {0:.1f}% more obese men than obese women.'.format((m_count / f_count - 1) * 100))\n",
    "  elif m_count < f_count:\n",
    "    print('There are {0:.1f}% more obese women than obese men.'.format((f_count / m_count - 1) * 100))\n",
    "  else:\n",
    "    print(\"Obese men and women are the same amounts.\")"
   ]
  },
  {
   "cell_type": "markdown",
   "metadata": {},
   "source": [
    "To define the amount of smokers:"
   ]
  },
  {
   "cell_type": "code",
   "execution_count": 6,
   "metadata": {},
   "outputs": [],
   "source": [
    "def smokers(dictionary):\n",
    "  m_count, w_count = 0, 0\n",
    "  for value in dictionary.values():\n",
    "    if value[1] == 'male' and value[4] == 'yes':\n",
    "      m_count += 1\n",
    "    elif value[1] == 'female' and value[4] == 'yes':\n",
    "      w_count += 1\n",
    "  return m_count, w_count"
   ]
  },
  {
   "cell_type": "markdown",
   "metadata": {},
   "source": [
    "To define the amount of woman with children:"
   ]
  },
  {
   "cell_type": "code",
   "execution_count": 7,
   "metadata": {},
   "outputs": [],
   "source": [
    "def woman_with_children(dictionary):\n",
    "  child_count = 0\n",
    "  for value in dictionary.values():\n",
    "    if value[1] == 'female' and int(value[3]) >= 1:\n",
    "      child_count += 1\n",
    "  return child_count "
   ]
  },
  {
   "cell_type": "markdown",
   "metadata": {},
   "source": [
    "To define the amount of people less than N years old):"
   ]
  },
  {
   "cell_type": "code",
   "execution_count": 18,
   "metadata": {},
   "outputs": [],
   "source": [
    "def less_than_age(dictionary, age):\n",
    "  count = 0\n",
    "  for value in dictionary.values():\n",
    "    if int(value[0]) < age:\n",
    "      count += 1\n",
    "  return count "
   ]
  },
  {
   "cell_type": "markdown",
   "metadata": {},
   "source": [
    "To create list for one parameter in dictionary:"
   ]
  },
  {
   "cell_type": "code",
   "execution_count": 9,
   "metadata": {},
   "outputs": [],
   "source": [
    "def create_lst(dictionary, column):\n",
    "  lst = []\n",
    "  for value in dictionary.values():\n",
    "    lst.append(value[column])\n",
    "  return lst"
   ]
  },
  {
   "cell_type": "markdown",
   "metadata": {},
   "source": [
    "## The main body of the program"
   ]
  },
  {
   "cell_type": "code",
   "execution_count": 10,
   "metadata": {},
   "outputs": [],
   "source": [
    "# dictionary {'name': [age, sex, bmi, children, smoker, region, charges]}\n",
    "patients = {}\n",
    "\n",
    "with open('insurance.csv') as data_csv:\n",
    "  data_dict = csv.DictReader(data_csv, delimiter=',')\n",
    "  count = 0\n",
    "  for item in data_dict:\n",
    "    count += 1\n",
    "    patients['Patient{}'.format(count)] = [item['age'], item['sex'], item['bmi'], item['children'], item['smoker'], item['region'], item['charges']]"
   ]
  },
  {
   "cell_type": "code",
   "execution_count": 11,
   "metadata": {},
   "outputs": [],
   "source": [
    "# choose only obese category\n",
    "_,_,_,_,obesity = bmi_grouping(patients)"
   ]
  },
  {
   "cell_type": "code",
   "execution_count": 15,
   "metadata": {},
   "outputs": [
    {
     "name": "stdout",
     "output_type": "stream",
     "text": [
      "There are 11.7% more obese men than obese women.\n"
     ]
    }
   ],
   "source": [
    "ob_male, ob_female = male_to_female(obesity)\n",
    "obesity_ratio(ob_male, ob_female)"
   ]
  },
  {
   "cell_type": "code",
   "execution_count": 16,
   "metadata": {},
   "outputs": [
    {
     "name": "stdout",
     "output_type": "stream",
     "text": [
      "There are 24.9% of smokers among obese men.\n",
      "There are 15.6% of smokers among obese women.\n"
     ]
    }
   ],
   "source": [
    "ob_male_smokers, ob_female_smokers = smokers(obesity)\n",
    "print('There are {0:.1f}% of smokers among obese men.'.format((ob_male_smokers / ob_male) * 100))\n",
    "print('There are {0:.1f}% of smokers among obese women.'.format((ob_female_smokers / ob_female) * 100))"
   ]
  },
  {
   "cell_type": "code",
   "execution_count": 17,
   "metadata": {},
   "outputs": [
    {
     "name": "stdout",
     "output_type": "stream",
     "text": [
      "57.2% of women with children are obese.\n"
     ]
    }
   ],
   "source": [
    "ob_female_childs = woman_with_children(obesity)\n",
    "print('{0:.1f}% of women with children are obese.'.format((ob_female_childs / ob_female) * 100))"
   ]
  },
  {
   "cell_type": "code",
   "execution_count": 19,
   "metadata": {},
   "outputs": [
    {
     "name": "stdout",
     "output_type": "stream",
     "text": [
      "There are 12.3% of people under 21 among obese people.\n"
     ]
    }
   ],
   "source": [
    "ob_young_count =  less_than_age(obesity, 21)\n",
    "print('There are {0:.1f}% of people under 21 among obese people.'.format((ob_young_count / len(obesity)) * 100))"
   ]
  },
  {
   "cell_type": "markdown",
   "metadata": {},
   "source": [
    "## Conclusions\n",
    "\n",
    "The questions asked were answered, the python fundamentals, such as functions and dictionaries, were used to solve the tasks.\n",
    "\n",
    "I would like to note a number of disadvantages of the formula for calculating the cost of insurance:\n",
    "\n",
    "- The higher the body mass index, the more expensive the insurance. But people with a very low body mass index also have health problems, so I think the BMI categories should be weighted.\n",
    "- People with the same BMI category may pay differently due to different quantitative BMI values, however, their health is assessed equally according to the official BMI classification.\n"
   ]
  },
  {
   "cell_type": "code",
   "execution_count": null,
   "metadata": {},
   "outputs": [],
   "source": []
  }
 ],
 "metadata": {
  "kernelspec": {
   "display_name": "Python 3 (ipykernel)",
   "language": "python",
   "name": "python3"
  },
  "language_info": {
   "codemirror_mode": {
    "name": "ipython",
    "version": 3
   },
   "file_extension": ".py",
   "mimetype": "text/x-python",
   "name": "python",
   "nbconvert_exporter": "python",
   "pygments_lexer": "ipython3",
   "version": "3.9.5"
  }
 },
 "nbformat": 4,
 "nbformat_minor": 4
}
